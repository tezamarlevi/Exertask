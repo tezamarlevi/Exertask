{
 "cells": [
  {
   "cell_type": "code",
   "execution_count": 31,
   "metadata": {},
   "outputs": [],
   "source": [
    "import pandas as pd\n",
    "import warnings\n",
    "warnings.filterwarnings('ignore')"
   ]
  },
  {
   "cell_type": "code",
   "execution_count": 2,
   "metadata": {},
   "outputs": [],
   "source": [
    "wu = pd.read_csv('Warunk Upnormal Cempaka Putih_.csv')"
   ]
  },
  {
   "cell_type": "code",
   "execution_count": 4,
   "metadata": {},
   "outputs": [
    {
     "data": {
      "text/html": [
       "<div>\n",
       "<style scoped>\n",
       "    .dataframe tbody tr th:only-of-type {\n",
       "        vertical-align: middle;\n",
       "    }\n",
       "\n",
       "    .dataframe tbody tr th {\n",
       "        vertical-align: top;\n",
       "    }\n",
       "\n",
       "    .dataframe thead th {\n",
       "        text-align: right;\n",
       "    }\n",
       "</style>\n",
       "<table border=\"1\" class=\"dataframe\">\n",
       "  <thead>\n",
       "    <tr style=\"text-align: right;\">\n",
       "      <th></th>\n",
       "      <th>Nama Toko</th>\n",
       "      <th>Nama Pelanggan</th>\n",
       "      <th>Waktu</th>\n",
       "      <th>review-full-text</th>\n",
       "      <th>Jtu6Td</th>\n",
       "    </tr>\n",
       "  </thead>\n",
       "  <tbody>\n",
       "    <tr>\n",
       "      <th>0</th>\n",
       "      <td>Warunk Upnormal Cempaka Putih</td>\n",
       "      <td>Wanto Robusta</td>\n",
       "      <td>sebulan lalu</td>\n",
       "      <td>Keterangan di google maps, 24 jam. Ternyata cu...</td>\n",
       "      <td>NaN</td>\n",
       "    </tr>\n",
       "    <tr>\n",
       "      <th>1</th>\n",
       "      <td>Warunk Upnormal Cempaka Putih</td>\n",
       "      <td>Andrian Lutfiansyah Alfath</td>\n",
       "      <td>sebulan lalu</td>\n",
       "      <td>•tempat strategis, mudah ditemukan.•parkiran m...</td>\n",
       "      <td>NaN</td>\n",
       "    </tr>\n",
       "    <tr>\n",
       "      <th>2</th>\n",
       "      <td>Warunk Upnormal Cempaka Putih</td>\n",
       "      <td>Muhammad Rizky Rianto</td>\n",
       "      <td>9 bulan lalu</td>\n",
       "      <td>Warunk Upnormal itu warkop naik level dengan r...</td>\n",
       "      <td>NaN</td>\n",
       "    </tr>\n",
       "    <tr>\n",
       "      <th>3</th>\n",
       "      <td>Warunk Upnormal Cempaka Putih</td>\n",
       "      <td>Timeh Harahap</td>\n",
       "      <td>5 bulan lalu</td>\n",
       "      <td>Makanannya ok, penyajiannya juga cepat.Lantai ...</td>\n",
       "      <td>NaN</td>\n",
       "    </tr>\n",
       "    <tr>\n",
       "      <th>4</th>\n",
       "      <td>Warunk Upnormal Cempaka Putih</td>\n",
       "      <td>Kharisma Agustina</td>\n",
       "      <td>2 bulan lalu</td>\n",
       "      <td>Tempatnya luas, enak buat kumpul sama temen\". ...</td>\n",
       "      <td>NaN</td>\n",
       "    </tr>\n",
       "  </tbody>\n",
       "</table>\n",
       "</div>"
      ],
      "text/plain": [
       "                       Nama Toko              Nama Pelanggan        Waktu   \\\n",
       "0  Warunk Upnormal Cempaka Putih               Wanto Robusta  sebulan lalu   \n",
       "1  Warunk Upnormal Cempaka Putih  Andrian Lutfiansyah Alfath  sebulan lalu   \n",
       "2  Warunk Upnormal Cempaka Putih       Muhammad Rizky Rianto  9 bulan lalu   \n",
       "3  Warunk Upnormal Cempaka Putih               Timeh Harahap  5 bulan lalu   \n",
       "4  Warunk Upnormal Cempaka Putih           Kharisma Agustina  2 bulan lalu   \n",
       "\n",
       "                                    review-full-text  Jtu6Td  \n",
       "0  Keterangan di google maps, 24 jam. Ternyata cu...     NaN  \n",
       "1  •tempat strategis, mudah ditemukan.•parkiran m...     NaN  \n",
       "2  Warunk Upnormal itu warkop naik level dengan r...     NaN  \n",
       "3  Makanannya ok, penyajiannya juga cepat.Lantai ...     NaN  \n",
       "4  Tempatnya luas, enak buat kumpul sama temen\". ...     NaN  "
      ]
     },
     "execution_count": 4,
     "metadata": {},
     "output_type": "execute_result"
    }
   ],
   "source": [
    "wu.head()"
   ]
  },
  {
   "cell_type": "code",
   "execution_count": 8,
   "metadata": {},
   "outputs": [],
   "source": [
    "target = wu.drop(['Nama Toko', 'Nama Pelanggan', 'Jtu6Td'], axis=1)"
   ]
  },
  {
   "cell_type": "code",
   "execution_count": 15,
   "metadata": {},
   "outputs": [
    {
     "data": {
      "text/html": [
       "<div>\n",
       "<style scoped>\n",
       "    .dataframe tbody tr th:only-of-type {\n",
       "        vertical-align: middle;\n",
       "    }\n",
       "\n",
       "    .dataframe tbody tr th {\n",
       "        vertical-align: top;\n",
       "    }\n",
       "\n",
       "    .dataframe thead th {\n",
       "        text-align: right;\n",
       "    }\n",
       "</style>\n",
       "<table border=\"1\" class=\"dataframe\">\n",
       "  <thead>\n",
       "    <tr style=\"text-align: right;\">\n",
       "      <th></th>\n",
       "      <th>Waktu</th>\n",
       "      <th>review-full-text</th>\n",
       "    </tr>\n",
       "  </thead>\n",
       "  <tbody>\n",
       "    <tr>\n",
       "      <th>0</th>\n",
       "      <td>sebulan lalu</td>\n",
       "      <td>Keterangan di google maps, 24 jam. Ternyata cu...</td>\n",
       "    </tr>\n",
       "  </tbody>\n",
       "</table>\n",
       "</div>"
      ],
      "text/plain": [
       "         Waktu                                    review-full-text\n",
       "0  sebulan lalu  Keterangan di google maps, 24 jam. Ternyata cu..."
      ]
     },
     "execution_count": 15,
     "metadata": {},
     "output_type": "execute_result"
    }
   ],
   "source": [
    "target.head(1)"
   ]
  },
  {
   "cell_type": "code",
   "execution_count": 19,
   "metadata": {},
   "outputs": [],
   "source": [
    "target = wu[['review-full-text']]"
   ]
  },
  {
   "cell_type": "code",
   "execution_count": 20,
   "metadata": {},
   "outputs": [
    {
     "data": {
      "text/html": [
       "<div>\n",
       "<style scoped>\n",
       "    .dataframe tbody tr th:only-of-type {\n",
       "        vertical-align: middle;\n",
       "    }\n",
       "\n",
       "    .dataframe tbody tr th {\n",
       "        vertical-align: top;\n",
       "    }\n",
       "\n",
       "    .dataframe thead th {\n",
       "        text-align: right;\n",
       "    }\n",
       "</style>\n",
       "<table border=\"1\" class=\"dataframe\">\n",
       "  <thead>\n",
       "    <tr style=\"text-align: right;\">\n",
       "      <th></th>\n",
       "      <th>review-full-text</th>\n",
       "    </tr>\n",
       "  </thead>\n",
       "  <tbody>\n",
       "    <tr>\n",
       "      <th>0</th>\n",
       "      <td>Keterangan di google maps, 24 jam. Ternyata cu...</td>\n",
       "    </tr>\n",
       "    <tr>\n",
       "      <th>1</th>\n",
       "      <td>•tempat strategis, mudah ditemukan.•parkiran m...</td>\n",
       "    </tr>\n",
       "    <tr>\n",
       "      <th>2</th>\n",
       "      <td>Warunk Upnormal itu warkop naik level dengan r...</td>\n",
       "    </tr>\n",
       "    <tr>\n",
       "      <th>3</th>\n",
       "      <td>Makanannya ok, penyajiannya juga cepat.Lantai ...</td>\n",
       "    </tr>\n",
       "    <tr>\n",
       "      <th>4</th>\n",
       "      <td>Tempatnya luas, enak buat kumpul sama temen\". ...</td>\n",
       "    </tr>\n",
       "    <tr>\n",
       "      <th>5</th>\n",
       "      <td>Tempatnya enak, luas, lega. Makanan dan minuma...</td>\n",
       "    </tr>\n",
       "    <tr>\n",
       "      <th>6</th>\n",
       "      <td>Saat saya berkunjung,  sistem pelayanannya men...</td>\n",
       "    </tr>\n",
       "    <tr>\n",
       "      <th>7</th>\n",
       "      <td>Malam ini pelayanan kurang baik.Mgkn krn banya...</td>\n",
       "    </tr>\n",
       "    <tr>\n",
       "      <th>8</th>\n",
       "      <td>Tempatnya nyaman, makanan nya enak. Pelayanan ...</td>\n",
       "    </tr>\n",
       "    <tr>\n",
       "      <th>9</th>\n",
       "      <td>Lantai 2 nya panas beneer, AC cuman jadi akses...</td>\n",
       "    </tr>\n",
       "    <tr>\n",
       "      <th>10</th>\n",
       "      <td>Lantai 2 nya panas beneer, AC cuman jadi akses...</td>\n",
       "    </tr>\n",
       "    <tr>\n",
       "      <th>11</th>\n",
       "      <td>Lokasinya tepat di jalan raya cempaka putih, s...</td>\n",
       "    </tr>\n",
       "    <tr>\n",
       "      <th>12</th>\n",
       "      <td>Menunya harus tambah inovasi lagi biar seru</td>\n",
       "    </tr>\n",
       "    <tr>\n",
       "      <th>13</th>\n",
       "      <td>Tempatnya nyaman buat ngerjain tugas, nongkron...</td>\n",
       "    </tr>\n",
       "    <tr>\n",
       "      <th>14</th>\n",
       "      <td>Tempatnya nyaman buat berlama2 ngerjain tugas,...</td>\n",
       "    </tr>\n",
       "    <tr>\n",
       "      <th>15</th>\n",
       "      <td>Pelayananya baik but so sorry, biasa aja makan...</td>\n",
       "    </tr>\n",
       "    <tr>\n",
       "      <th>16</th>\n",
       "      <td>Warung Upnormal ini terletak di Jalan Cempaka ...</td>\n",
       "    </tr>\n",
       "    <tr>\n",
       "      <th>17</th>\n",
       "      <td>Nggak kayak dulu nih tempat.. Menu nya tidak s...</td>\n",
       "    </tr>\n",
       "    <tr>\n",
       "      <th>18</th>\n",
       "      <td>Selalu suka jika datang ke upnormal...apalagi ...</td>\n",
       "    </tr>\n",
       "    <tr>\n",
       "      <th>19</th>\n",
       "      <td>Lantai 1 ademLantai 2 gak ada ACParkir relatif...</td>\n",
       "    </tr>\n",
       "    <tr>\n",
       "      <th>20</th>\n",
       "      <td>Makanannya lama dateng, minumannya lebih lama ...</td>\n",
       "    </tr>\n",
       "    <tr>\n",
       "      <th>21</th>\n",
       "      <td>Parkiran mobil sempit, jadi aku parkir di Indo...</td>\n",
       "    </tr>\n",
       "    <tr>\n",
       "      <th>22</th>\n",
       "      <td>Pesan nasi kulit sambal matah + susu Almond. R...</td>\n",
       "    </tr>\n",
       "    <tr>\n",
       "      <th>23</th>\n",
       "      <td>Tempatnya sih enak buat nongkrong cuman pelaya...</td>\n",
       "    </tr>\n",
       "    <tr>\n",
       "      <th>24</th>\n",
       "      <td>Harga sama rasa jauh, mending di warmindo sebe...</td>\n",
       "    </tr>\n",
       "    <tr>\n",
       "      <th>25</th>\n",
       "      <td>Dulu sih selalu penasaran pengen ksini. Tp par...</td>\n",
       "    </tr>\n",
       "    <tr>\n",
       "      <th>26</th>\n",
       "      <td>Tempatnya memang asik untuk nongkrong rame-ram...</td>\n",
       "    </tr>\n",
       "    <tr>\n",
       "      <th>27</th>\n",
       "      <td>Tempatnya strategis dan cukup cozy.  Sayangnya...</td>\n",
       "    </tr>\n",
       "    <tr>\n",
       "      <th>28</th>\n",
       "      <td>Tempatnya bagus banget, Instagramable. Untuk h...</td>\n",
       "    </tr>\n",
       "    <tr>\n",
       "      <th>29</th>\n",
       "      <td>Overall seperti warunk upnormal lainnya, tp sa...</td>\n",
       "    </tr>\n",
       "    <tr>\n",
       "      <th>30</th>\n",
       "      <td>Tempat yang asik untuk nongkrong dengan teman ...</td>\n",
       "    </tr>\n",
       "  </tbody>\n",
       "</table>\n",
       "</div>"
      ],
      "text/plain": [
       "                                     review-full-text\n",
       "0   Keterangan di google maps, 24 jam. Ternyata cu...\n",
       "1   •tempat strategis, mudah ditemukan.•parkiran m...\n",
       "2   Warunk Upnormal itu warkop naik level dengan r...\n",
       "3   Makanannya ok, penyajiannya juga cepat.Lantai ...\n",
       "4   Tempatnya luas, enak buat kumpul sama temen\". ...\n",
       "5   Tempatnya enak, luas, lega. Makanan dan minuma...\n",
       "6   Saat saya berkunjung,  sistem pelayanannya men...\n",
       "7   Malam ini pelayanan kurang baik.Mgkn krn banya...\n",
       "8   Tempatnya nyaman, makanan nya enak. Pelayanan ...\n",
       "9   Lantai 2 nya panas beneer, AC cuman jadi akses...\n",
       "10  Lantai 2 nya panas beneer, AC cuman jadi akses...\n",
       "11  Lokasinya tepat di jalan raya cempaka putih, s...\n",
       "12        Menunya harus tambah inovasi lagi biar seru\n",
       "13  Tempatnya nyaman buat ngerjain tugas, nongkron...\n",
       "14  Tempatnya nyaman buat berlama2 ngerjain tugas,...\n",
       "15  Pelayananya baik but so sorry, biasa aja makan...\n",
       "16  Warung Upnormal ini terletak di Jalan Cempaka ...\n",
       "17  Nggak kayak dulu nih tempat.. Menu nya tidak s...\n",
       "18  Selalu suka jika datang ke upnormal...apalagi ...\n",
       "19  Lantai 1 ademLantai 2 gak ada ACParkir relatif...\n",
       "20  Makanannya lama dateng, minumannya lebih lama ...\n",
       "21  Parkiran mobil sempit, jadi aku parkir di Indo...\n",
       "22  Pesan nasi kulit sambal matah + susu Almond. R...\n",
       "23  Tempatnya sih enak buat nongkrong cuman pelaya...\n",
       "24  Harga sama rasa jauh, mending di warmindo sebe...\n",
       "25  Dulu sih selalu penasaran pengen ksini. Tp par...\n",
       "26  Tempatnya memang asik untuk nongkrong rame-ram...\n",
       "27  Tempatnya strategis dan cukup cozy.  Sayangnya...\n",
       "28  Tempatnya bagus banget, Instagramable. Untuk h...\n",
       "29  Overall seperti warunk upnormal lainnya, tp sa...\n",
       "30  Tempat yang asik untuk nongkrong dengan teman ..."
      ]
     },
     "execution_count": 20,
     "metadata": {},
     "output_type": "execute_result"
    }
   ],
   "source": [
    "target"
   ]
  },
  {
   "cell_type": "code",
   "execution_count": 21,
   "metadata": {},
   "outputs": [
    {
     "data": {
      "text/plain": [
       "(31, 1)"
      ]
     },
     "execution_count": 21,
     "metadata": {},
     "output_type": "execute_result"
    }
   ],
   "source": [
    "target.shape"
   ]
  },
  {
   "cell_type": "code",
   "execution_count": 23,
   "metadata": {},
   "outputs": [],
   "source": [
    "from sklearn.feature_extraction.text import CountVectorizer\n",
    "cv = CountVectorizer(max_df=0.95, min_df=2, stop_words='english')"
   ]
  },
  {
   "cell_type": "code",
   "execution_count": 25,
   "metadata": {},
   "outputs": [],
   "source": [
    "dtm = cv.fit_transform(target['review-full-text'])"
   ]
  },
  {
   "cell_type": "code",
   "execution_count": 26,
   "metadata": {},
   "outputs": [
    {
     "data": {
      "text/plain": [
       "<31x201 sparse matrix of type '<class 'numpy.int64'>'\n",
       "\twith 704 stored elements in Compressed Sparse Row format>"
      ]
     },
     "execution_count": 26,
     "metadata": {},
     "output_type": "execute_result"
    }
   ],
   "source": [
    "dtm"
   ]
  },
  {
   "cell_type": "markdown",
   "metadata": {},
   "source": [
    "LDA"
   ]
  },
  {
   "cell_type": "code",
   "execution_count": 27,
   "metadata": {},
   "outputs": [],
   "source": [
    "from sklearn.decomposition import LatentDirichletAllocation"
   ]
  },
  {
   "cell_type": "code",
   "execution_count": 28,
   "metadata": {},
   "outputs": [],
   "source": [
    "LDA = LatentDirichletAllocation(n_components=3, random_state=42)"
   ]
  },
  {
   "cell_type": "code",
   "execution_count": 29,
   "metadata": {},
   "outputs": [
    {
     "data": {
      "text/plain": [
       "LatentDirichletAllocation(n_components=3, random_state=42)"
      ]
     },
     "execution_count": 29,
     "metadata": {},
     "output_type": "execute_result"
    }
   ],
   "source": [
    "LDA.fit(dtm)"
   ]
  },
  {
   "cell_type": "code",
   "execution_count": 32,
   "metadata": {},
   "outputs": [
    {
     "data": {
      "text/plain": [
       "201"
      ]
     },
     "execution_count": 32,
     "metadata": {},
     "output_type": "execute_result"
    }
   ],
   "source": [
    "len(cv.get_feature_names())"
   ]
  },
  {
   "cell_type": "code",
   "execution_count": 37,
   "metadata": {},
   "outputs": [
    {
     "name": "stdout",
     "output_type": "stream",
     "text": [
      "['ac', 'ada', 'agak', 'aja', 'aksesoris', 'aku', 'almond', 'apalagi', 'asik', 'atas', 'atau', 'baik', 'bakar', 'bakarnya', 'bakso', 'banget', 'banyak', 'bareng', 'baru', 'beneer', 'berasa', 'berbagai', 'bersih', 'biasa', 'bilang', 'bisa', 'boedjangan', 'buat', 'bukan', 'cafe', 'cempaka', 'cepat', 'cireng', 'cocok', 'cozy', 'cuma', 'cuman', 'dan', 'dari', 'datang', 'deh', 'dengan', 'di', 'dia', 'dikasih', 'dimakan', 'ditanyain', 'dulu', 'emang', 'enak', 'ga', 'gak', 'gitu', 'goreng', 'gorengnya', 'harga', 'harganya', 'harus', 'indomaret', 'indomie', 'indomienya', 'ini', 'instagramable', 'itu', 'jadi', 'jalan', 'jalanan', 'jam', 'jd', 'jelek', 'jg', 'juga', 'kalau', 'kalo', 'karna', 'kartu', 'kasir', 'kasirnya', 'katanya', 'kaya', 'ke', 'kecil', 'keju', 'kerasa', 'ketika', 'kopi', 'kosan', 'kurang', 'lagi', 'lah', 'lainnya', 'lama', 'langsung', 'lantai', 'lebih', 'lokasinya', 'luas', 'lumayan', 'maaf', 'macam', 'mahal', 'makan', 'makanan', 'makanannya', 'malah', 'malam', 'masih', 'mau', 'maupun', 'meja', 'memang', 'menu', 'menunya', 'menurut', 'mie', 'minta', 'minuman', 'mobil', 'mungkin', 'naik', 'namanya', 'nanti', 'nasi', 'ngerjain', 'nih', 'nongkrong', 'nya', 'nyaman', 'overall', 'padahal', 'panas', 'parkir', 'parkiran', 'pas', 'pegawai', 'pelanggan', 'pelayanan', 'pelayanannya', 'pelayannya', 'penuh', 'pertama', 'pesan', 'pesanan', 'pesen', 'pilihan', 'pulang', 'putih', 'ramah', 'ramai', 'rame', 'rasa', 'rasanya', 'raya', 'roti', 'ruangan', 'saat', 'sama', 'sambal', 'sampe', 'saya', 'seberang', 'sekali', 'selalu', 'selesai', 'seperti', 'sepertinya', 'seru', 'sesuai', 'sih', 'sistem', 'smoking', 'solo', 'stacko', 'standar', 'strategis', 'sudah', 'suka', 'susu', 'taman', 'tapi', 'teman', 'tempat', 'tempatnya', 'tepat', 'terlalu', 'ternyata', 'tidak', 'toiletnya', 'tp', 'trus', 'tugas', 'udh', 'uno', 'untuk', 'upnormal', 'warunk', 'wifi', 'wifinya', 'ya', 'yang', 'yg']\n",
      "['ac', 'ada', 'agak', 'aja', 'aksesoris', 'aku', 'almond', 'apalagi', 'asik', 'atas', 'atau', 'baik', 'bakar', 'bakarnya', 'bakso', 'banget', 'banyak', 'bareng', 'baru', 'beneer', 'berasa', 'berbagai', 'bersih', 'biasa', 'bilang', 'bisa', 'boedjangan', 'buat', 'bukan', 'cafe', 'cempaka', 'cepat', 'cireng', 'cocok', 'cozy', 'cuma', 'cuman', 'dan', 'dari', 'datang', 'deh', 'dengan', 'di', 'dia', 'dikasih', 'dimakan', 'ditanyain', 'dulu', 'emang', 'enak', 'ga', 'gak', 'gitu', 'goreng', 'gorengnya', 'harga', 'harganya', 'harus', 'indomaret', 'indomie', 'indomienya', 'ini', 'instagramable', 'itu', 'jadi', 'jalan', 'jalanan', 'jam', 'jd', 'jelek', 'jg', 'juga', 'kalau', 'kalo', 'karna', 'kartu', 'kasir', 'kasirnya', 'katanya', 'kaya', 'ke', 'kecil', 'keju', 'kerasa', 'ketika', 'kopi', 'kosan', 'kurang', 'lagi', 'lah', 'lainnya', 'lama', 'langsung', 'lantai', 'lebih', 'lokasinya', 'luas', 'lumayan', 'maaf', 'macam', 'mahal', 'makan', 'makanan', 'makanannya', 'malah', 'malam', 'masih', 'mau', 'maupun', 'meja', 'memang', 'menu', 'menunya', 'menurut', 'mie', 'minta', 'minuman', 'mobil', 'mungkin', 'naik', 'namanya', 'nanti', 'nasi', 'ngerjain', 'nih', 'nongkrong', 'nya', 'nyaman', 'overall', 'padahal', 'panas', 'parkir', 'parkiran', 'pas', 'pegawai', 'pelanggan', 'pelayanan', 'pelayanannya', 'pelayannya', 'penuh', 'pertama', 'pesan', 'pesanan', 'pesen', 'pilihan', 'pulang', 'putih', 'ramah', 'ramai', 'rame', 'rasa', 'rasanya', 'raya', 'roti', 'ruangan', 'saat', 'sama', 'sambal', 'sampe', 'saya', 'seberang', 'sekali', 'selalu', 'selesai', 'seperti', 'sepertinya', 'seru', 'sesuai', 'sih', 'sistem', 'smoking', 'solo', 'stacko', 'standar', 'strategis', 'sudah', 'suka', 'susu', 'taman', 'tapi', 'teman', 'tempat', 'tempatnya', 'tepat', 'terlalu', 'ternyata', 'tidak', 'toiletnya', 'tp', 'trus', 'tugas', 'udh', 'uno', 'untuk', 'upnormal', 'warunk', 'wifi', 'wifinya', 'ya', 'yang', 'yg']\n",
      "['ac', 'ada', 'agak', 'aja', 'aksesoris', 'aku', 'almond', 'apalagi', 'asik', 'atas', 'atau', 'baik', 'bakar', 'bakarnya', 'bakso', 'banget', 'banyak', 'bareng', 'baru', 'beneer', 'berasa', 'berbagai', 'bersih', 'biasa', 'bilang', 'bisa', 'boedjangan', 'buat', 'bukan', 'cafe', 'cempaka', 'cepat', 'cireng', 'cocok', 'cozy', 'cuma', 'cuman', 'dan', 'dari', 'datang', 'deh', 'dengan', 'di', 'dia', 'dikasih', 'dimakan', 'ditanyain', 'dulu', 'emang', 'enak', 'ga', 'gak', 'gitu', 'goreng', 'gorengnya', 'harga', 'harganya', 'harus', 'indomaret', 'indomie', 'indomienya', 'ini', 'instagramable', 'itu', 'jadi', 'jalan', 'jalanan', 'jam', 'jd', 'jelek', 'jg', 'juga', 'kalau', 'kalo', 'karna', 'kartu', 'kasir', 'kasirnya', 'katanya', 'kaya', 'ke', 'kecil', 'keju', 'kerasa', 'ketika', 'kopi', 'kosan', 'kurang', 'lagi', 'lah', 'lainnya', 'lama', 'langsung', 'lantai', 'lebih', 'lokasinya', 'luas', 'lumayan', 'maaf', 'macam', 'mahal', 'makan', 'makanan', 'makanannya', 'malah', 'malam', 'masih', 'mau', 'maupun', 'meja', 'memang', 'menu', 'menunya', 'menurut', 'mie', 'minta', 'minuman', 'mobil', 'mungkin', 'naik', 'namanya', 'nanti', 'nasi', 'ngerjain', 'nih', 'nongkrong', 'nya', 'nyaman', 'overall', 'padahal', 'panas', 'parkir', 'parkiran', 'pas', 'pegawai', 'pelanggan', 'pelayanan', 'pelayanannya', 'pelayannya', 'penuh', 'pertama', 'pesan', 'pesanan', 'pesen', 'pilihan', 'pulang', 'putih', 'ramah', 'ramai', 'rame', 'rasa', 'rasanya', 'raya', 'roti', 'ruangan', 'saat', 'sama', 'sambal', 'sampe', 'saya', 'seberang', 'sekali', 'selalu', 'selesai', 'seperti', 'sepertinya', 'seru', 'sesuai', 'sih', 'sistem', 'smoking', 'solo', 'stacko', 'standar', 'strategis', 'sudah', 'suka', 'susu', 'taman', 'tapi', 'teman', 'tempat', 'tempatnya', 'tepat', 'terlalu', 'ternyata', 'tidak', 'toiletnya', 'tp', 'trus', 'tugas', 'udh', 'uno', 'untuk', 'upnormal', 'warunk', 'wifi', 'wifinya', 'ya', 'yang', 'yg']\n",
      "['ac', 'ada', 'agak', 'aja', 'aksesoris', 'aku', 'almond', 'apalagi', 'asik', 'atas', 'atau', 'baik', 'bakar', 'bakarnya', 'bakso', 'banget', 'banyak', 'bareng', 'baru', 'beneer', 'berasa', 'berbagai', 'bersih', 'biasa', 'bilang', 'bisa', 'boedjangan', 'buat', 'bukan', 'cafe', 'cempaka', 'cepat', 'cireng', 'cocok', 'cozy', 'cuma', 'cuman', 'dan', 'dari', 'datang', 'deh', 'dengan', 'di', 'dia', 'dikasih', 'dimakan', 'ditanyain', 'dulu', 'emang', 'enak', 'ga', 'gak', 'gitu', 'goreng', 'gorengnya', 'harga', 'harganya', 'harus', 'indomaret', 'indomie', 'indomienya', 'ini', 'instagramable', 'itu', 'jadi', 'jalan', 'jalanan', 'jam', 'jd', 'jelek', 'jg', 'juga', 'kalau', 'kalo', 'karna', 'kartu', 'kasir', 'kasirnya', 'katanya', 'kaya', 'ke', 'kecil', 'keju', 'kerasa', 'ketika', 'kopi', 'kosan', 'kurang', 'lagi', 'lah', 'lainnya', 'lama', 'langsung', 'lantai', 'lebih', 'lokasinya', 'luas', 'lumayan', 'maaf', 'macam', 'mahal', 'makan', 'makanan', 'makanannya', 'malah', 'malam', 'masih', 'mau', 'maupun', 'meja', 'memang', 'menu', 'menunya', 'menurut', 'mie', 'minta', 'minuman', 'mobil', 'mungkin', 'naik', 'namanya', 'nanti', 'nasi', 'ngerjain', 'nih', 'nongkrong', 'nya', 'nyaman', 'overall', 'padahal', 'panas', 'parkir', 'parkiran', 'pas', 'pegawai', 'pelanggan', 'pelayanan', 'pelayanannya', 'pelayannya', 'penuh', 'pertama', 'pesan', 'pesanan', 'pesen', 'pilihan', 'pulang', 'putih', 'ramah', 'ramai', 'rame', 'rasa', 'rasanya', 'raya', 'roti', 'ruangan', 'saat', 'sama', 'sambal', 'sampe', 'saya', 'seberang', 'sekali', 'selalu', 'selesai', 'seperti', 'sepertinya', 'seru', 'sesuai', 'sih', 'sistem', 'smoking', 'solo', 'stacko', 'standar', 'strategis', 'sudah', 'suka', 'susu', 'taman', 'tapi', 'teman', 'tempat', 'tempatnya', 'tepat', 'terlalu', 'ternyata', 'tidak', 'toiletnya', 'tp', 'trus', 'tugas', 'udh', 'uno', 'untuk', 'upnormal', 'warunk', 'wifi', 'wifinya', 'ya', 'yang', 'yg']\n",
      "['ac', 'ada', 'agak', 'aja', 'aksesoris', 'aku', 'almond', 'apalagi', 'asik', 'atas', 'atau', 'baik', 'bakar', 'bakarnya', 'bakso', 'banget', 'banyak', 'bareng', 'baru', 'beneer', 'berasa', 'berbagai', 'bersih', 'biasa', 'bilang', 'bisa', 'boedjangan', 'buat', 'bukan', 'cafe', 'cempaka', 'cepat', 'cireng', 'cocok', 'cozy', 'cuma', 'cuman', 'dan', 'dari', 'datang', 'deh', 'dengan', 'di', 'dia', 'dikasih', 'dimakan', 'ditanyain', 'dulu', 'emang', 'enak', 'ga', 'gak', 'gitu', 'goreng', 'gorengnya', 'harga', 'harganya', 'harus', 'indomaret', 'indomie', 'indomienya', 'ini', 'instagramable', 'itu', 'jadi', 'jalan', 'jalanan', 'jam', 'jd', 'jelek', 'jg', 'juga', 'kalau', 'kalo', 'karna', 'kartu', 'kasir', 'kasirnya', 'katanya', 'kaya', 'ke', 'kecil', 'keju', 'kerasa', 'ketika', 'kopi', 'kosan', 'kurang', 'lagi', 'lah', 'lainnya', 'lama', 'langsung', 'lantai', 'lebih', 'lokasinya', 'luas', 'lumayan', 'maaf', 'macam', 'mahal', 'makan', 'makanan', 'makanannya', 'malah', 'malam', 'masih', 'mau', 'maupun', 'meja', 'memang', 'menu', 'menunya', 'menurut', 'mie', 'minta', 'minuman', 'mobil', 'mungkin', 'naik', 'namanya', 'nanti', 'nasi', 'ngerjain', 'nih', 'nongkrong', 'nya', 'nyaman', 'overall', 'padahal', 'panas', 'parkir', 'parkiran', 'pas', 'pegawai', 'pelanggan', 'pelayanan', 'pelayanannya', 'pelayannya', 'penuh', 'pertama', 'pesan', 'pesanan', 'pesen', 'pilihan', 'pulang', 'putih', 'ramah', 'ramai', 'rame', 'rasa', 'rasanya', 'raya', 'roti', 'ruangan', 'saat', 'sama', 'sambal', 'sampe', 'saya', 'seberang', 'sekali', 'selalu', 'selesai', 'seperti', 'sepertinya', 'seru', 'sesuai', 'sih', 'sistem', 'smoking', 'solo', 'stacko', 'standar', 'strategis', 'sudah', 'suka', 'susu', 'taman', 'tapi', 'teman', 'tempat', 'tempatnya', 'tepat', 'terlalu', 'ternyata', 'tidak', 'toiletnya', 'tp', 'trus', 'tugas', 'udh', 'uno', 'untuk', 'upnormal', 'warunk', 'wifi', 'wifinya', 'ya', 'yang', 'yg']\n"
     ]
    }
   ],
   "source": [
    "import random\n",
    "for i in range(5):\n",
    "    random_word = random.randint(0,54776)\n",
    "    print(cv.get_feature_names()[random_word])"
   ]
  },
  {
   "cell_type": "code",
   "execution_count": 42,
   "metadata": {},
   "outputs": [
    {
     "ename": "IndexError",
     "evalue": "list index out of range",
     "output_type": "error",
     "traceback": [
      "\u001b[1;31m---------------------------------------------------------------------------\u001b[0m",
      "\u001b[1;31mIndexError\u001b[0m                                Traceback (most recent call last)",
      "\u001b[1;32mC:\\Users\\MARLEV~1\\AppData\\Local\\Temp/ipykernel_11116/1859020150.py\u001b[0m in \u001b[0;36m<module>\u001b[1;34m\u001b[0m\n\u001b[0;32m      1\u001b[0m \u001b[0mrandom_word_id\u001b[0m \u001b[1;33m=\u001b[0m \u001b[0mrandom\u001b[0m\u001b[1;33m.\u001b[0m\u001b[0mrandint\u001b[0m\u001b[1;33m(\u001b[0m\u001b[1;36m1\u001b[0m\u001b[1;33m,\u001b[0m \u001b[1;36m10\u001b[0m\u001b[1;33m)\u001b[0m\u001b[1;33m\u001b[0m\u001b[1;33m\u001b[0m\u001b[0m\n\u001b[1;32m----> 2\u001b[1;33m \u001b[0mcv\u001b[0m\u001b[1;33m.\u001b[0m\u001b[0mget_feature_names\u001b[0m\u001b[1;33m(\u001b[0m\u001b[1;33m)\u001b[0m\u001b[1;33m[\u001b[0m\u001b[0mrandom_word\u001b[0m\u001b[1;33m]\u001b[0m\u001b[1;33m\u001b[0m\u001b[1;33m\u001b[0m\u001b[0m\n\u001b[0m",
      "\u001b[1;31mIndexError\u001b[0m: list index out of range"
     ]
    }
   ],
   "source": [
    "random_word_id = random.randint(1, 10)\n",
    "cv.get_feature_names()[random_word]"
   ]
  },
  {
   "cell_type": "code",
   "execution_count": 43,
   "metadata": {},
   "outputs": [
    {
     "data": {
      "text/plain": [
       "3"
      ]
     },
     "execution_count": 43,
     "metadata": {},
     "output_type": "execute_result"
    }
   ],
   "source": [
    "len(LDA.components_)"
   ]
  },
  {
   "cell_type": "code",
   "execution_count": 44,
   "metadata": {},
   "outputs": [
    {
     "data": {
      "text/plain": [
       "array([[ 0.33359947,  2.32197844,  2.81965734,  2.33001264,  0.33374475,\n",
       "         0.33369044,  1.33155439,  3.34764326,  0.43415762,  0.33352132,\n",
       "         0.33348088,  0.33348386,  0.33341427,  1.33349131,  0.33341094,\n",
       "         8.37508769,  1.33535342,  1.08891392,  2.37108355,  0.33374475,\n",
       "         0.33339642,  0.333472  ,  0.33356056,  1.3311131 ,  1.33201131,\n",
       "         2.33640139,  0.33341201,  3.3357065 ,  2.32062222,  3.33315898,\n",
       "         0.33344591,  0.33360565,  1.33369607,  0.43415135,  0.33347711,\n",
       "         4.33051362,  2.34932291,  7.96632252,  1.33234035,  0.33354374,\n",
       "         0.33354326,  3.33352067,  3.32410933,  1.33239044,  2.33420872,\n",
       "         2.32054895,  1.35044444,  0.33392528,  2.33178368,  6.37136993,\n",
       "         1.31702362,  0.3338258 ,  1.33217136,  0.38226824,  2.32059398,\n",
       "         2.33527368,  0.33348286,  0.33458248,  0.333988  ,  1.33084307,\n",
       "         1.33457323,  0.33357569,  1.3355837 ,  1.33188683,  2.92668855,\n",
       "         0.33341133,  0.33352312,  0.33342688,  0.33362828,  4.33318534,\n",
       "         0.33348941,  5.33912269,  2.33537509,  0.33355312,  0.33355627,\n",
       "         0.33362828,  0.43446399,  0.43386615,  1.33178781,  0.33363744,\n",
       "         0.3340367 ,  0.33369548,  2.33604228,  1.33265873,  0.33359754,\n",
       "         0.33351052,  1.33548303,  3.3422203 ,  3.38072291,  1.33694802,\n",
       "         0.33369548,  3.37869868,  2.32064486,  0.33370557,  1.30583372,\n",
       "         0.33348327,  2.33887089,  2.33818737,  1.33264807,  0.33348239,\n",
       "         0.33341427,  1.91029476,  2.33650513,  2.34449048,  0.33346127,\n",
       "         0.33344698,  0.33343454,  2.33900604,  0.33348327,  0.33342688,\n",
       "         0.43388016,  0.3336232 ,  0.38151108,  0.3335373 ,  1.33141145,\n",
       "         1.33589913,  1.33345967,  0.33371183,  1.33504005,  0.33352315,\n",
       "         2.32127875,  1.33680098,  3.68357165,  0.3335845 ,  0.33389521,\n",
       "         1.69852715,  7.40031643,  1.32953204,  0.33357076,  1.33382779,\n",
       "         0.33362014,  0.33414473,  0.33369484,  4.33593037,  0.43394066,\n",
       "         0.33363212,  1.33589167,  1.33793421,  1.3363863 ,  1.33134383,\n",
       "         0.33346127,  1.77970626,  1.33499349,  2.3353225 ,  0.33343884,\n",
       "         2.08915055,  0.33344591,  4.38412461,  1.35122905,  2.59019966,\n",
       "         4.18199354,  1.33528544,  0.33341201,  1.32721515,  0.33346455,\n",
       "         0.33353726,  3.34782312,  3.32527769,  0.33430573,  0.35650818,\n",
       "         0.33341201,  1.33132202,  0.33357175,  2.32064491,  0.33362511,\n",
       "         1.28917258,  0.33395748,  1.3365535 ,  4.34450111,  0.33375646,\n",
       "         0.33364867,  0.33346057,  0.33362828,  1.33928119,  0.33375862,\n",
       "         1.33353827,  1.33536583,  1.32782427,  0.33346057,  4.34959534,\n",
       "         0.33346455,  0.33362828,  6.1264644 ,  0.33341201,  2.33523567,\n",
       "         0.33345829,  0.3336254 ,  0.33357353,  0.333483  ,  0.3334521 ,\n",
       "         0.33353831,  2.33445952,  0.33361192,  2.83605444,  0.3336074 ,\n",
       "         0.33350349,  1.3352473 ,  1.33457008,  4.34070863,  2.32188353,\n",
       "         2.02266432],\n",
       "       [ 4.31244782,  4.18030999,  2.31314558,  0.33348934,  2.33269564,\n",
       "         0.33386869,  1.33493774,  0.33353327,  0.33349844,  2.33301047,\n",
       "         0.33343756,  0.33344913,  0.33339846,  0.3335047 ,  4.33319212,\n",
       "         0.33356092,  0.36376308,  0.73589677,  1.29529706,  2.33269564,\n",
       "         2.33323168,  0.35350263,  3.31465014,  0.33346682,  1.33453687,\n",
       "         0.35118411,  2.33319435,  1.42614513,  0.33342748,  0.33342821,\n",
       "         4.31270411,  3.31456036,  1.3328722 ,  0.3335508 ,  2.33309339,\n",
       "         1.33038407,  2.31157091, 15.39545545,  2.3329466 ,  0.33347497,\n",
       "         1.33468102,  1.95291619,  8.32968075,  1.33416197,  1.33237637,\n",
       "         0.33346408,  1.31593395,  3.29381775,  2.33478503,  2.34380489,\n",
       "         7.34263936,  3.31993428,  0.33348319,  0.34529329,  0.33343996,\n",
       "         0.33356472,  0.35091893,  1.35902744,  1.35380086,  0.34148707,\n",
       "         0.33354344,  4.34246132,  0.33364974,  0.35339162,  3.7969299 ,\n",
       "         3.33319275,  0.35328517,  0.33340262,  1.33509343,  0.33341761,\n",
       "         2.33307842,  5.5366505 ,  1.33118455,  1.33390804,  0.36360827,\n",
       "         1.33509343,  2.3380168 ,  0.33347254,  2.33480438,  2.33759936,\n",
       "         2.33518011,  1.33349234,  0.33348593,  0.33356984,  1.33628812,\n",
       "         0.3334442 ,  0.33366421,  6.79222331,  3.33817886,  0.33352095,\n",
       "         1.33349234,  2.27999469,  0.33341532,  8.35015959,  1.31830889,\n",
       "         2.28094285,  0.33350059,  0.33353926,  1.33392547,  0.35329465,\n",
       "         0.33339846,  0.34892571,  0.33351381,  4.74236189,  1.33394811,\n",
       "         0.33342442,  0.344605  ,  0.33351647,  2.28094285,  0.33340262,\n",
       "         0.33347254,  3.2313763 ,  0.33387464,  1.32760204,  0.33352822,\n",
       "         1.33678559,  0.333481  ,  0.33392623,  0.33350741,  0.35333947,\n",
       "         1.33275229,  0.3335627 ,  0.38020185,  0.36362989,  0.37270894,\n",
       "         1.32932659,  4.18314725,  0.51575622,  2.30076162,  0.33345547,\n",
       "         5.32287482,  3.39887617,  1.34048168,  0.33350663,  0.33347254,\n",
       "         1.33132011,  0.33361839,  1.32749036,  0.36374266,  2.28315241,\n",
       "         1.33394811,  0.34790882,  0.333562  ,  0.33346005,  0.33340367,\n",
       "         0.33349019,  4.31270411,  1.57633698,  1.22460171,  0.33347283,\n",
       "         2.8541331 ,  0.36362911,  2.33319435,  1.3328426 ,  0.34464895,\n",
       "         0.33349832,  0.33353143,  0.33346825,  1.31209796,  2.32159642,\n",
       "         2.33319435,  2.33521724,  2.33649728,  0.33341532,  1.32921349,\n",
       "         1.33465277,  0.3339929 ,  0.33357145,  3.94275718,  1.33004548,\n",
       "         2.34059858,  3.30373111,  1.33509343,  0.44742557,  1.33448879,\n",
       "         0.33361311,  0.33351431,  2.33867069,  3.30373111,  0.33354845,\n",
       "         0.34464605,  1.54972038,  4.87986528,  2.33319435,  1.33279438,\n",
       "         2.33539753,  0.34450483,  3.31461118,  5.33728204,  0.33341382,\n",
       "         0.35109774,  1.3321336 ,  2.33690975,  5.74591548,  4.72311131,\n",
       "         2.28085983,  1.32759801,  0.33354756,  2.33349006,  2.59852597,\n",
       "         0.34413608],\n",
       "       [ 0.35395271, 10.49771157,  5.86719708,  5.33649801,  0.33355961,\n",
       "         2.33244087,  0.33350787,  1.31882347,  2.23234395,  0.33346821,\n",
       "         5.33308156,  2.333067  ,  2.33318727,  1.33300399,  0.33339695,\n",
       "         1.29135138,  2.30088351,  1.17518931,  0.33361939,  0.33355961,\n",
       "         0.3333719 ,  2.31302537,  0.3517893 ,  3.33542008,  0.33345182,\n",
       "         3.31241451,  0.33339364,  9.23814836,  0.34595031,  0.33341281,\n",
       "         0.35384998,  0.351834  ,  0.33343173,  2.23229785,  0.3334295 ,\n",
       "         0.33910231,  2.33910618,  9.63822203,  3.33471304,  3.33298129,\n",
       "         1.33177572,  6.71356314,  7.34620992,  0.33344759,  0.33341491,\n",
       "         0.34598697,  0.33362161,  0.37225698,  0.33343129,  3.28482519,\n",
       "         0.34033703,  3.34623992,  2.33434545,  3.27243847,  0.34596606,\n",
       "         2.3311616 ,  5.31559821,  1.30639009,  1.31221113,  4.32766986,\n",
       "         1.33188333,  2.32396299,  1.33076656,  2.31472155,  4.27638155,\n",
       "         0.33339591,  2.31319171,  3.3331705 ,  1.33127828,  0.33339705,\n",
       "         0.33343218, 12.12422681,  0.33344036,  3.33253884,  2.30283546,\n",
       "         1.33127828,  2.22751921,  2.23266131,  0.33340782,  1.32876319,\n",
       "         1.33078319,  1.33281218,  1.33047179,  1.33377143,  1.33011434,\n",
       "         2.33304528,  1.33085276,  2.86555639,  3.28109822,  1.32953103,\n",
       "         1.33281218,  0.34130662,  0.34593982,  2.31613484,  0.37585739,\n",
       "         0.38557388,  1.32762852,  1.32827336,  0.33342646,  2.31322296,\n",
       "         2.33318727,  2.74077953,  2.32998107,  1.91314763,  1.33259062,\n",
       "         3.3331286 ,  3.32196046,  2.32747749,  0.38557388,  3.3331705 ,\n",
       "         2.2326473 ,  6.4350005 ,  3.28461428,  3.33886066,  2.33506033,\n",
       "         1.32731528,  1.33305932,  2.33236194,  1.33145254,  2.31313738,\n",
       "         0.34596896,  1.32963632,  3.9362265 ,  2.3027856 ,  2.29339585,\n",
       "         4.97214627,  5.41653632,  4.15471174,  0.36566761,  1.33271674,\n",
       "         0.34350504,  1.26697909,  3.32582348,  5.33056301,  2.2325868 ,\n",
       "         1.33504776,  1.33048994,  2.33457543,  2.29987104,  0.38550376,\n",
       "         1.33259062,  3.87238491,  2.33144451,  2.33121745,  4.33315749,\n",
       "         1.57735926,  0.35384998,  3.03953841,  0.42416924,  3.0763275 ,\n",
       "         1.96387336,  2.30108545,  0.33339364,  5.33994225,  3.3218865 ,\n",
       "         2.33296442,  1.31864546,  0.34125406,  4.35359631, 10.3218954 ,\n",
       "         0.33339364,  0.33346074,  2.32993097,  0.34593977,  3.3371614 ,\n",
       "         0.37617465,  2.33204962,  1.32987504,  2.71274171,  2.33619806,\n",
       "         1.32575275,  0.36280832,  1.33127828,  1.21329324,  1.33175259,\n",
       "         2.33284862,  2.33111987,  0.33350503,  0.36280832,  2.31685621,\n",
       "         3.32188941,  8.11665134,  3.99367033,  0.33339364,  1.33196995,\n",
       "         1.33114418,  5.32186977,  0.35181529,  4.32923495,  3.33313408,\n",
       "         3.31536395,  0.33340688,  2.32947833,  5.41803008,  4.94328129,\n",
       "         0.38563668,  2.33715468,  1.33188237,  2.32580131, 12.07959051,\n",
       "         6.6331996 ]])"
      ]
     },
     "execution_count": 44,
     "metadata": {},
     "output_type": "execute_result"
    }
   ],
   "source": [
    "LDA.components_"
   ]
  },
  {
   "cell_type": "code",
   "execution_count": 46,
   "metadata": {},
   "outputs": [
    {
     "name": "stdout",
     "output_type": "stream",
     "text": [
      "ya\n",
      "sih\n",
      "tapi\n",
      "ramah\n",
      "juga\n",
      "tempatnya\n",
      "enak\n",
      "nya\n",
      "dan\n",
      "banget\n"
     ]
    }
   ],
   "source": [
    "single_topic = LDA.components_[0]\n",
    "top_word_indices = single_topic.argsort()[-10:]\n",
    "for index in top_word_indices:\n",
    "    print(cv.get_feature_names()[index])"
   ]
  },
  {
   "cell_type": "code",
   "execution_count": 50,
   "metadata": {},
   "outputs": [
    {
     "name": "stdout",
     "output_type": "stream",
     "text": [
      "TOP 15 Kata #0\n",
      "['nasi', 'rasa', 'cuma', 'jelek', 'pas', 'ya', 'sih', 'tapi', 'ramah', 'juga', 'tempatnya', 'enak', 'nya', 'dan', 'banget']\n",
      "\n",
      "\n",
      "TOP 15 Kata #1\n",
      "['putih', 'bakso', 'ini', 'upnormal', 'makanannya', 'tempatnya', 'panas', 'tp', 'juga', 'untuk', 'kurang', 'ga', 'di', 'lantai', 'dan']\n",
      "\n",
      "\n",
      "TOP 15 Kata #2\n",
      "['roti', 'nya', 'untuk', 'agak', 'menu', 'yg', 'dengan', 'di', 'tempat', 'buat', 'dan', 'saya', 'ada', 'yang', 'juga']\n",
      "\n",
      "\n"
     ]
    }
   ],
   "source": [
    "for index,topic in enumerate(LDA.components_):\n",
    "    print(f'TOP 15 Kata #{index}')\n",
    "    print([cv.get_feature_names()[i] for i in topic.argsort()[-15:]])\n",
    "    print('\\n')"
   ]
  },
  {
   "cell_type": "code",
   "execution_count": 51,
   "metadata": {},
   "outputs": [
    {
     "data": {
      "text/plain": [
       "(31, 201)"
      ]
     },
     "execution_count": 51,
     "metadata": {},
     "output_type": "execute_result"
    }
   ],
   "source": [
    "dtm.shape"
   ]
  },
  {
   "cell_type": "code",
   "execution_count": 52,
   "metadata": {},
   "outputs": [
    {
     "data": {
      "text/plain": [
       "31"
      ]
     },
     "execution_count": 52,
     "metadata": {},
     "output_type": "execute_result"
    }
   ],
   "source": [
    "len(target)"
   ]
  },
  {
   "cell_type": "code",
   "execution_count": 53,
   "metadata": {},
   "outputs": [],
   "source": [
    "topic_result = LDA.transform(dtm)"
   ]
  },
  {
   "cell_type": "code",
   "execution_count": 55,
   "metadata": {},
   "outputs": [
    {
     "data": {
      "text/plain": [
       "(31, 3)"
      ]
     },
     "execution_count": 55,
     "metadata": {},
     "output_type": "execute_result"
    }
   ],
   "source": [
    "topic_result.shape"
   ]
  },
  {
   "cell_type": "code",
   "execution_count": 56,
   "metadata": {},
   "outputs": [
    {
     "data": {
      "text/plain": [
       "array([0.00551522, 0.0054863 , 0.98899848])"
      ]
     },
     "execution_count": 56,
     "metadata": {},
     "output_type": "execute_result"
    }
   ],
   "source": [
    "topic_result[0]"
   ]
  },
  {
   "cell_type": "code",
   "execution_count": 60,
   "metadata": {},
   "outputs": [
    {
     "data": {
      "text/plain": [
       "array([0.01, 0.01, 0.99])"
      ]
     },
     "execution_count": 60,
     "metadata": {},
     "output_type": "execute_result"
    }
   ],
   "source": [
    "topic_result[0].round(2)"
   ]
  },
  {
   "cell_type": "code",
   "execution_count": 61,
   "metadata": {},
   "outputs": [
    {
     "data": {
      "text/plain": [
       "2"
      ]
     },
     "execution_count": 61,
     "metadata": {},
     "output_type": "execute_result"
    }
   ],
   "source": [
    "topic_result[0].argmax()"
   ]
  },
  {
   "cell_type": "code",
   "execution_count": 63,
   "metadata": {},
   "outputs": [
    {
     "data": {
      "text/plain": [
       "array([2, 2, 2, 1, 0, 0, 2, 2, 0, 1, 1, 1, 2, 2, 2, 2, 1, 2, 2, 1, 1, 2,\n",
       "       0, 0, 0, 1, 0, 1, 0, 1, 2], dtype=int64)"
      ]
     },
     "execution_count": 63,
     "metadata": {},
     "output_type": "execute_result"
    }
   ],
   "source": [
    "topic_result.argmax(axis=1)"
   ]
  },
  {
   "cell_type": "code",
   "execution_count": 64,
   "metadata": {},
   "outputs": [],
   "source": [
    "target['Topic'] = topic_result.argmax(axis=1)"
   ]
  },
  {
   "cell_type": "code",
   "execution_count": 65,
   "metadata": {},
   "outputs": [
    {
     "data": {
      "text/html": [
       "<div>\n",
       "<style scoped>\n",
       "    .dataframe tbody tr th:only-of-type {\n",
       "        vertical-align: middle;\n",
       "    }\n",
       "\n",
       "    .dataframe tbody tr th {\n",
       "        vertical-align: top;\n",
       "    }\n",
       "\n",
       "    .dataframe thead th {\n",
       "        text-align: right;\n",
       "    }\n",
       "</style>\n",
       "<table border=\"1\" class=\"dataframe\">\n",
       "  <thead>\n",
       "    <tr style=\"text-align: right;\">\n",
       "      <th></th>\n",
       "      <th>review-full-text</th>\n",
       "      <th>Topic</th>\n",
       "    </tr>\n",
       "  </thead>\n",
       "  <tbody>\n",
       "    <tr>\n",
       "      <th>0</th>\n",
       "      <td>Keterangan di google maps, 24 jam. Ternyata cu...</td>\n",
       "      <td>2</td>\n",
       "    </tr>\n",
       "    <tr>\n",
       "      <th>1</th>\n",
       "      <td>•tempat strategis, mudah ditemukan.•parkiran m...</td>\n",
       "      <td>2</td>\n",
       "    </tr>\n",
       "    <tr>\n",
       "      <th>2</th>\n",
       "      <td>Warunk Upnormal itu warkop naik level dengan r...</td>\n",
       "      <td>2</td>\n",
       "    </tr>\n",
       "    <tr>\n",
       "      <th>3</th>\n",
       "      <td>Makanannya ok, penyajiannya juga cepat.Lantai ...</td>\n",
       "      <td>1</td>\n",
       "    </tr>\n",
       "    <tr>\n",
       "      <th>4</th>\n",
       "      <td>Tempatnya luas, enak buat kumpul sama temen\". ...</td>\n",
       "      <td>0</td>\n",
       "    </tr>\n",
       "    <tr>\n",
       "      <th>5</th>\n",
       "      <td>Tempatnya enak, luas, lega. Makanan dan minuma...</td>\n",
       "      <td>0</td>\n",
       "    </tr>\n",
       "    <tr>\n",
       "      <th>6</th>\n",
       "      <td>Saat saya berkunjung,  sistem pelayanannya men...</td>\n",
       "      <td>2</td>\n",
       "    </tr>\n",
       "    <tr>\n",
       "      <th>7</th>\n",
       "      <td>Malam ini pelayanan kurang baik.Mgkn krn banya...</td>\n",
       "      <td>2</td>\n",
       "    </tr>\n",
       "    <tr>\n",
       "      <th>8</th>\n",
       "      <td>Tempatnya nyaman, makanan nya enak. Pelayanan ...</td>\n",
       "      <td>0</td>\n",
       "    </tr>\n",
       "    <tr>\n",
       "      <th>9</th>\n",
       "      <td>Lantai 2 nya panas beneer, AC cuman jadi akses...</td>\n",
       "      <td>1</td>\n",
       "    </tr>\n",
       "    <tr>\n",
       "      <th>10</th>\n",
       "      <td>Lantai 2 nya panas beneer, AC cuman jadi akses...</td>\n",
       "      <td>1</td>\n",
       "    </tr>\n",
       "    <tr>\n",
       "      <th>11</th>\n",
       "      <td>Lokasinya tepat di jalan raya cempaka putih, s...</td>\n",
       "      <td>1</td>\n",
       "    </tr>\n",
       "    <tr>\n",
       "      <th>12</th>\n",
       "      <td>Menunya harus tambah inovasi lagi biar seru</td>\n",
       "      <td>2</td>\n",
       "    </tr>\n",
       "    <tr>\n",
       "      <th>13</th>\n",
       "      <td>Tempatnya nyaman buat ngerjain tugas, nongkron...</td>\n",
       "      <td>2</td>\n",
       "    </tr>\n",
       "    <tr>\n",
       "      <th>14</th>\n",
       "      <td>Tempatnya nyaman buat berlama2 ngerjain tugas,...</td>\n",
       "      <td>2</td>\n",
       "    </tr>\n",
       "    <tr>\n",
       "      <th>15</th>\n",
       "      <td>Pelayananya baik but so sorry, biasa aja makan...</td>\n",
       "      <td>2</td>\n",
       "    </tr>\n",
       "    <tr>\n",
       "      <th>16</th>\n",
       "      <td>Warung Upnormal ini terletak di Jalan Cempaka ...</td>\n",
       "      <td>1</td>\n",
       "    </tr>\n",
       "    <tr>\n",
       "      <th>17</th>\n",
       "      <td>Nggak kayak dulu nih tempat.. Menu nya tidak s...</td>\n",
       "      <td>2</td>\n",
       "    </tr>\n",
       "    <tr>\n",
       "      <th>18</th>\n",
       "      <td>Selalu suka jika datang ke upnormal...apalagi ...</td>\n",
       "      <td>2</td>\n",
       "    </tr>\n",
       "    <tr>\n",
       "      <th>19</th>\n",
       "      <td>Lantai 1 ademLantai 2 gak ada ACParkir relatif...</td>\n",
       "      <td>1</td>\n",
       "    </tr>\n",
       "    <tr>\n",
       "      <th>20</th>\n",
       "      <td>Makanannya lama dateng, minumannya lebih lama ...</td>\n",
       "      <td>1</td>\n",
       "    </tr>\n",
       "    <tr>\n",
       "      <th>21</th>\n",
       "      <td>Parkiran mobil sempit, jadi aku parkir di Indo...</td>\n",
       "      <td>2</td>\n",
       "    </tr>\n",
       "    <tr>\n",
       "      <th>22</th>\n",
       "      <td>Pesan nasi kulit sambal matah + susu Almond. R...</td>\n",
       "      <td>0</td>\n",
       "    </tr>\n",
       "    <tr>\n",
       "      <th>23</th>\n",
       "      <td>Tempatnya sih enak buat nongkrong cuman pelaya...</td>\n",
       "      <td>0</td>\n",
       "    </tr>\n",
       "    <tr>\n",
       "      <th>24</th>\n",
       "      <td>Harga sama rasa jauh, mending di warmindo sebe...</td>\n",
       "      <td>0</td>\n",
       "    </tr>\n",
       "    <tr>\n",
       "      <th>25</th>\n",
       "      <td>Dulu sih selalu penasaran pengen ksini. Tp par...</td>\n",
       "      <td>1</td>\n",
       "    </tr>\n",
       "    <tr>\n",
       "      <th>26</th>\n",
       "      <td>Tempatnya memang asik untuk nongkrong rame-ram...</td>\n",
       "      <td>0</td>\n",
       "    </tr>\n",
       "    <tr>\n",
       "      <th>27</th>\n",
       "      <td>Tempatnya strategis dan cukup cozy.  Sayangnya...</td>\n",
       "      <td>1</td>\n",
       "    </tr>\n",
       "    <tr>\n",
       "      <th>28</th>\n",
       "      <td>Tempatnya bagus banget, Instagramable. Untuk h...</td>\n",
       "      <td>0</td>\n",
       "    </tr>\n",
       "    <tr>\n",
       "      <th>29</th>\n",
       "      <td>Overall seperti warunk upnormal lainnya, tp sa...</td>\n",
       "      <td>1</td>\n",
       "    </tr>\n",
       "    <tr>\n",
       "      <th>30</th>\n",
       "      <td>Tempat yang asik untuk nongkrong dengan teman ...</td>\n",
       "      <td>2</td>\n",
       "    </tr>\n",
       "  </tbody>\n",
       "</table>\n",
       "</div>"
      ],
      "text/plain": [
       "                                     review-full-text  Topic\n",
       "0   Keterangan di google maps, 24 jam. Ternyata cu...      2\n",
       "1   •tempat strategis, mudah ditemukan.•parkiran m...      2\n",
       "2   Warunk Upnormal itu warkop naik level dengan r...      2\n",
       "3   Makanannya ok, penyajiannya juga cepat.Lantai ...      1\n",
       "4   Tempatnya luas, enak buat kumpul sama temen\". ...      0\n",
       "5   Tempatnya enak, luas, lega. Makanan dan minuma...      0\n",
       "6   Saat saya berkunjung,  sistem pelayanannya men...      2\n",
       "7   Malam ini pelayanan kurang baik.Mgkn krn banya...      2\n",
       "8   Tempatnya nyaman, makanan nya enak. Pelayanan ...      0\n",
       "9   Lantai 2 nya panas beneer, AC cuman jadi akses...      1\n",
       "10  Lantai 2 nya panas beneer, AC cuman jadi akses...      1\n",
       "11  Lokasinya tepat di jalan raya cempaka putih, s...      1\n",
       "12        Menunya harus tambah inovasi lagi biar seru      2\n",
       "13  Tempatnya nyaman buat ngerjain tugas, nongkron...      2\n",
       "14  Tempatnya nyaman buat berlama2 ngerjain tugas,...      2\n",
       "15  Pelayananya baik but so sorry, biasa aja makan...      2\n",
       "16  Warung Upnormal ini terletak di Jalan Cempaka ...      1\n",
       "17  Nggak kayak dulu nih tempat.. Menu nya tidak s...      2\n",
       "18  Selalu suka jika datang ke upnormal...apalagi ...      2\n",
       "19  Lantai 1 ademLantai 2 gak ada ACParkir relatif...      1\n",
       "20  Makanannya lama dateng, minumannya lebih lama ...      1\n",
       "21  Parkiran mobil sempit, jadi aku parkir di Indo...      2\n",
       "22  Pesan nasi kulit sambal matah + susu Almond. R...      0\n",
       "23  Tempatnya sih enak buat nongkrong cuman pelaya...      0\n",
       "24  Harga sama rasa jauh, mending di warmindo sebe...      0\n",
       "25  Dulu sih selalu penasaran pengen ksini. Tp par...      1\n",
       "26  Tempatnya memang asik untuk nongkrong rame-ram...      0\n",
       "27  Tempatnya strategis dan cukup cozy.  Sayangnya...      1\n",
       "28  Tempatnya bagus banget, Instagramable. Untuk h...      0\n",
       "29  Overall seperti warunk upnormal lainnya, tp sa...      1\n",
       "30  Tempat yang asik untuk nongkrong dengan teman ...      2"
      ]
     },
     "execution_count": 65,
     "metadata": {},
     "output_type": "execute_result"
    }
   ],
   "source": [
    "target"
   ]
  },
  {
   "cell_type": "code",
   "execution_count": null,
   "metadata": {},
   "outputs": [],
   "source": []
  }
 ],
 "metadata": {
  "kernelspec": {
   "display_name": "Python 3.9.7 ('base')",
   "language": "python",
   "name": "python3"
  },
  "language_info": {
   "codemirror_mode": {
    "name": "ipython",
    "version": 3
   },
   "file_extension": ".py",
   "mimetype": "text/x-python",
   "name": "python",
   "nbconvert_exporter": "python",
   "pygments_lexer": "ipython3",
   "version": "3.9.7"
  },
  "orig_nbformat": 4,
  "vscode": {
   "interpreter": {
    "hash": "16f6a18b95dcc4608cbbf2ad3c29c4a0f9bbd76db4ffc5d00a28ce35a13abf4c"
   }
  }
 },
 "nbformat": 4,
 "nbformat_minor": 2
}
